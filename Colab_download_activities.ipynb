{
  "nbformat": 4,
  "nbformat_minor": 0,
  "metadata": {
    "colab": {
      "provenance": []
    },
    "kernelspec": {
      "name": "python3",
      "display_name": "Python 3"
    },
    "language_info": {
      "name": "python"
    }
  },
  "cells": [
    {
      "cell_type": "markdown",
      "source": [
        "# Notebook to donwload the activities from PCD\n",
        "\n",
        "Download this notebook and copy it to your google drive so you can modify it.\n",
        "\n",
        "This notebook will allow you to donwload the activities that you need to complete to pass the subject.\n",
        "\n",
        "## First, mount your google drive so that you can modify the activities that you download\n",
        "\n",
        "This notebook will download the activities from an online repository. It will save them into your google drive so that you can save the changes that you make. To do this, we mount your google drive with the following command. Be sure to agree to mount the drive into your UOC gmail account.  "
      ],
      "metadata": {
        "id": "QGsXv-q16e8r"
      }
    },
    {
      "cell_type": "code",
      "execution_count": null,
      "metadata": {
        "colab": {
          "base_uri": "https://localhost:8080/"
        },
        "id": "XoT5NwZlcwQD",
        "outputId": "b79e4c14-8750-409b-af83-ece791e497b8"
      },
      "outputs": [
        {
          "output_type": "stream",
          "name": "stdout",
          "text": [
            "Mounted at /content/drive\n"
          ]
        }
      ],
      "source": [
        "# First, mount your google drive\n",
        "from google.colab import drive\n",
        "drive.mount(\"/content/drive\")"
      ]
    },
    {
      "cell_type": "code",
      "source": [
        "from google.colab import drive\n",
        "drive.mount('/content/drive')"
      ],
      "metadata": {
        "id": "1oc4wIjm94Kr",
        "outputId": "04204fbb-fc98-41a4-bb75-b7aabcce11e8",
        "colab": {
          "base_uri": "https://localhost:8080/"
        }
      },
      "execution_count": null,
      "outputs": [
        {
          "output_type": "stream",
          "name": "stdout",
          "text": [
            "Drive already mounted at /content/drive; to attempt to forcibly remount, call drive.mount(\"/content/drive\", force_remount=True).\n"
          ]
        }
      ]
    },
    {
      "cell_type": "markdown",
      "source": [
        "*Once* the drive is accessible for google colab, we move inside of your google drive."
      ],
      "metadata": {
        "id": "D7uEcGBD8Occ"
      }
    },
    {
      "cell_type": "code",
      "source": [
        "# Move to the directtory that contains our google drive, into a folder called Colab_Notebooks!\n",
        "!ls"
      ],
      "metadata": {
        "colab": {
          "base_uri": "https://localhost:8080/"
        },
        "id": "Q1eq3F4jdnvY",
        "outputId": "4c846efd-6be6-4d12-d987-45236e94a81e"
      },
      "execution_count": null,
      "outputs": [
        {
          "output_type": "stream",
          "name": "stdout",
          "text": [
            "drive  sample_data\n"
          ]
        }
      ]
    },
    {
      "cell_type": "code",
      "source": [
        "cd /content/drive/MyDrive/Colab Notebooks"
      ],
      "metadata": {
        "colab": {
          "base_uri": "https://localhost:8080/"
        },
        "id": "6bcEyjwSmfpb",
        "outputId": "781c7f2e-6a67-4dd5-d6af-67d7179a8f8f"
      },
      "execution_count": null,
      "outputs": [
        {
          "output_type": "stream",
          "name": "stdout",
          "text": [
            "/content/drive/MyDrive/Colab Notebooks\n"
          ]
        }
      ]
    },
    {
      "cell_type": "code",
      "source": [
        "# Check that we are in the correct folder\n",
        "# If this is not correct you may need to create the folder mentioned above\n",
        "!pwd"
      ],
      "metadata": {
        "colab": {
          "base_uri": "https://localhost:8080/"
        },
        "id": "I_uhQzt9eGrl",
        "outputId": "d016d26a-2196-4c00-89c7-90e6305c1ccc"
      },
      "execution_count": null,
      "outputs": [
        {
          "output_type": "stream",
          "name": "stdout",
          "text": [
            "/content/drive/MyDrive/Colab Notebooks\n"
          ]
        }
      ]
    },
    {
      "cell_type": "markdown",
      "source": [
        "# Donwload the activity from the online repository\n",
        "\n",
        "All that is left is downloading the activity. Choose the activity number (1,2,3 or 4) in the next cell and download it in the next one."
      ],
      "metadata": {
        "id": "M6UgHZdB8VoM"
      }
    },
    {
      "cell_type": "code",
      "source": [
        "# enter activity number\n",
        "activity_number = 1"
      ],
      "metadata": {
        "id": "IbBzlVWZUJkg"
      },
      "execution_count": null,
      "outputs": []
    },
    {
      "cell_type": "code",
      "source": [
        "# Download\n",
        "!git clone https://gitlab.com/UOC/eimt/prog_datasci_2/activities/Activity_{activity_number}.git"
      ],
      "metadata": {
        "id": "tjgTxoKVfOoH",
        "colab": {
          "base_uri": "https://localhost:8080/"
        },
        "outputId": "3e6eeda0-2e94-4da9-9ae6-d6d32f6a5367"
      },
      "execution_count": null,
      "outputs": [
        {
          "output_type": "stream",
          "name": "stdout",
          "text": [
            "Cloning into 'activity_1'...\n",
            "fatal: could not read Username for 'https://eimtgit.uoc.edu': No such device or address\n"
          ]
        }
      ]
    },
    {
      "cell_type": "markdown",
      "source": [
        "You can now find your activity in the folder that you have indicated, within a subfolder called \"activity_i\" where i is the activity number. Remember to save your work frequently and submit your work when you are done in the proper \"activity\" tab in UOC's webpage."
      ],
      "metadata": {
        "id": "xc_fqAiS6cMY"
      }
    },
    {
      "cell_type": "markdown",
      "source": [
        "# Download practice solution\n",
        "\n",
        "Two weeks after the final date of delivery of the practical, the download of the solution of the practical will be enabled."
      ],
      "metadata": {
        "id": "KtHkKFdP6YGd"
      }
    },
    {
      "cell_type": "code",
      "source": [
        "# enter activity number\n",
        "activity_number = 1"
      ],
      "metadata": {
        "id": "X5hl_R-36tkI"
      },
      "execution_count": null,
      "outputs": []
    },
    {
      "cell_type": "code",
      "source": [
        "# Download\n",
        "!git clone https://gitlab.com/UOC/eimt/prog_datasci_2/activities/activity_sol_{activity_number}.git"
      ],
      "metadata": {
        "id": "7zm56OFS6vFz"
      },
      "execution_count": null,
      "outputs": []
    }
  ]
}