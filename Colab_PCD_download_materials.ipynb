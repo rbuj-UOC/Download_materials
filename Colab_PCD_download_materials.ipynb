{
  "cells": [
    {
      "cell_type": "markdown",
      "metadata": {
        "id": "QGsXv-q16e8r"
      },
      "source": [
        "# Notebook to donwload the materials from PCD\n",
        "\n",
        "Download this notebook and copy it to your google drive so you can modify it.\n",
        "\n",
        "This notebook will allow you to donwload the materials that you need to complete to pass the subject.\n",
        "\n",
        "## First, mount your google drive so that you can modify the activities that you download\n",
        "\n",
        "This notebook will download the materials from an online repository. It will save them into your google drive so that you can save the changes that you make. To do this, we mount your google drive with the following command. Be sure to agree to mount the drive into your UOC gmail account.  "
      ]
    },
    {
      "cell_type": "code",
      "execution_count": 1,
      "metadata": {
        "colab": {
          "base_uri": "https://localhost:8080/"
        },
        "id": "XoT5NwZlcwQD",
        "outputId": "b79e4c14-8750-409b-af83-ece791e497b8"
      },
      "outputs": [
        {
          "name": "stdout",
          "output_type": "stream",
          "text": [
            "Not in Google Colab\n",
            "Working directory:  /Users/robert/code/Download_materials\n"
          ]
        }
      ],
      "source": [
        "try:\n",
        "    from google.colab import drive\n",
        "    drive.mount(\"/content/drive\")\n",
        "    %cd /content/drive/MyDrive/Colab Notebooks\n",
        "    print(\"In Google Colab\")\n",
        "except:\n",
        "    print(\"Not in Google Colab\")\n",
        "\n",
        "import os\n",
        "print(\"Working directory: \", os.getcwd())"
      ]
    },
    {
      "cell_type": "markdown",
      "metadata": {},
      "source": [
        "# Download the ``Fonaments de Programació`` materials"
      ]
    },
    {
      "cell_type": "code",
      "execution_count": 2,
      "metadata": {},
      "outputs": [
        {
          "name": "stderr",
          "output_type": "stream",
          "text": [
            "Cloning into 'prog_datasci_1'...\n",
            "Cloning into 'prog_datasci_2'...\n",
            "Cloning into 'prog_datasci_3'...\n",
            "Cloning into 'prog_datasci_4'...\n",
            "Cloning into 'prog_datasci_5'...\n",
            "Cloning into 'prog_datasci_7'...\n",
            "Cloning into 'prog_datasci_8'...\n"
          ]
        }
      ],
      "source": [
        "%%bash\n",
        "# enter unit numbers\n",
        "unit_number=(1 2 3 4 5 7 8)\n",
        "# download\n",
        "for i in ${unit_number[@]}\n",
        "do\n",
        "    dest=\"prog_datasci_${i}\"\n",
        "    if [ -d \"${dest}\" ]\n",
        "    then\n",
        "        echo \"Directory ${dest} exists.\"\n",
        "    else\n",
        "        echo \"git clone https://gitlab.com/UOC/eimt/prog_datasci_2/resources/progds-1/cat/unit_${i}.git ${dest} --depth 1 -b master\" | sh\n",
        "        if [ \"$?\" != 0 ]\n",
        "        then\n",
        "            echo \"Cloning ${dest} failed.\"\n",
        "        fi\n",
        "    fi\n",
        "done"
      ]
    },
    {
      "cell_type": "markdown",
      "metadata": {
        "id": "cTkEEITqTocA"
      },
      "source": [
        "# Download the subject materials\n",
        "\n",
        "Here you can download the Notebooks with all the material of each unit of the subject. Remember that these notebooks contain much of the theory necessary to complete the practices and obtain the knowledge and skills required for the course.\n",
        "\n",
        "*Remember to create a folder to separate the materials from the activities and their solutions.*"
      ]
    },
    {
      "cell_type": "code",
      "execution_count": 3,
      "metadata": {
        "id": "9wCxon-9XLTE"
      },
      "outputs": [
        {
          "name": "stderr",
          "output_type": "stream",
          "text": [
            "Cloning into 'unit_0'...\n",
            "Cloning into 'unit_1'...\n"
          ]
        }
      ],
      "source": [
        "%%bash\n",
        "# enter unit numbers\n",
        "unit_number=(0 1)\n",
        "# download\n",
        "for i in ${unit_number[@]}\n",
        "do\n",
        "    dest=\"unit_${i}\"\n",
        "    if [ -d \"${dest}\" ]\n",
        "    then\n",
        "        echo \"Directory ${dest} exists.\"\n",
        "    else\n",
        "        echo \"git clone https://gitlab.com/UOC/eimt/prog_datasci_2/resources/unit_${i}.git ${dest} --depth 1 -b master\" | sh\n",
        "        if [ \"$?\" != 0 ]\n",
        "        then\n",
        "            echo \"Cloning ${dest} failed.\"\n",
        "        fi\n",
        "    fi\n",
        "done"
      ]
    },
    {
      "cell_type": "markdown",
      "metadata": {
        "id": "M6UgHZdB8VoM"
      },
      "source": [
        "# Donwload the activity from the online repository\n",
        "\n",
        "All that is left is downloading the activity. Choose the activity number (1,2,3 or 4) in the next cell and download it in the next one.\n",
        "\n",
        "*Remember to create a folder to separate the materials from the activities and their solutions.*"
      ]
    },
    {
      "cell_type": "code",
      "execution_count": 4,
      "metadata": {
        "colab": {
          "base_uri": "https://localhost:8080/"
        },
        "id": "tjgTxoKVfOoH",
        "outputId": "3e6eeda0-2e94-4da9-9ae6-d6d32f6a5367"
      },
      "outputs": [
        {
          "name": "stderr",
          "output_type": "stream",
          "text": [
            "Cloning into 'activity_1'...\n"
          ]
        }
      ],
      "source": [
        "%%bash\n",
        "# enter activity number\n",
        "activity_number=(1)\n",
        "# download\n",
        "for i in ${activity_number[@]}\n",
        "do\n",
        "    dest=\"activity_${i}\"\n",
        "    if [ -d \"${dest}\" ]\n",
        "    then\n",
        "        echo \"Directory ${dest} exists.\"\n",
        "    else\n",
        "        echo \"git clone https://gitlab.com/UOC/eimt/prog_datasci_2/activities/activity_${i}.git ${dest} --depth 1 -b master\" | sh\n",
        "        if [ \"$?\" != 0 ]\n",
        "        then\n",
        "            echo \"Cloning ${dest} failed.\"\n",
        "        fi\n",
        "    fi\n",
        "done"
      ]
    },
    {
      "cell_type": "markdown",
      "metadata": {
        "id": "xc_fqAiS6cMY"
      },
      "source": [
        "You can now find your activity in the folder that you have indicated, within a subfolder called \"activity_i\" where i is the activity number. Remember to save your work frequently and submit your work when you are done in the proper \"activity\" tab in UOC's webpage."
      ]
    },
    {
      "cell_type": "markdown",
      "metadata": {
        "id": "KtHkKFdP6YGd"
      },
      "source": [
        "# Download practice solution\n",
        "\n",
        "Two weeks after the final date of delivery of the practical, the download of the solution of the practical will be enabled.\n",
        "\n",
        "*Remember to create a folder to separate the materials from the activities and their solutions.*"
      ]
    },
    {
      "cell_type": "code",
      "execution_count": 5,
      "metadata": {
        "id": "7zm56OFS6vFz"
      },
      "outputs": [
        {
          "name": "stderr",
          "output_type": "stream",
          "text": [
            "Cloning into 'activity_sol_1'...\n",
            "fatal: could not read Username for 'https://gitlab.com': Device not configured\n"
          ]
        },
        {
          "name": "stdout",
          "output_type": "stream",
          "text": [
            "Cloning activity_sol_1 failed.\n"
          ]
        }
      ],
      "source": [
        "%%bash\n",
        "# enter activity number\n",
        "activity_number=(1)\n",
        "# download\n",
        "for i in ${activity_number[@]}\n",
        "do\n",
        "    dest=\"activity_sol_${i}\"\n",
        "    if [ -d \"${dest}\" ]\n",
        "    then\n",
        "        echo \"Directory ${dest} exists.\"\n",
        "    else\n",
        "        echo \"git clone https://gitlab.com/UOC/eimt/prog_datasci_2/activities/activity_sol_${i}.git ${dest} --depth 1 -b master\" | sh\n",
        "        if [ \"$?\" != 0 ]\n",
        "        then\n",
        "            echo \"Cloning ${dest} failed.\"\n",
        "        fi\n",
        "    fi\n",
        "done"
      ]
    }
  ],
  "metadata": {
    "colab": {
      "provenance": []
    },
    "kernelspec": {
      "display_name": "base",
      "language": "python",
      "name": "python3"
    },
    "language_info": {
      "codemirror_mode": {
        "name": "ipython",
        "version": 3
      },
      "file_extension": ".py",
      "mimetype": "text/x-python",
      "name": "python",
      "nbconvert_exporter": "python",
      "pygments_lexer": "ipython3",
      "version": "3.12.9"
    }
  },
  "nbformat": 4,
  "nbformat_minor": 0
}
